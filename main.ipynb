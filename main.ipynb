{
 "cells": [
  {
   "cell_type": "markdown",
   "metadata": {},
   "source": [
    "## Расчет p-value для долей (SE proportions)"
   ]
  },
  {
   "cell_type": "code",
   "execution_count": 1,
   "metadata": {},
   "outputs": [],
   "source": [
    "import math\n",
    "from scipy import stats"
   ]
  },
  {
   "cell_type": "code",
   "execution_count": 2,
   "metadata": {},
   "outputs": [],
   "source": [
    "def calculate_p_value(clicks_a, impressions_a, clicks_b, impressions_b):\n",
    "    # Вычисляем пропорции\n",
    "    p1 = clicks_a / impressions_a\n",
    "    p2 = clicks_b / impressions_b\n",
    "    \n",
    "    # Вычисляем общую пропорцию\n",
    "    p_pooled = (clicks_a + clicks_b) / (impressions_a + impressions_b)\n",
    "    \n",
    "    # Вычисляем стандартную ошибку - se proportion\n",
    "    se = math.sqrt(p_pooled * (1 - p_pooled) * (1/impressions_a + 1/impressions_b))\n",
    "    \n",
    "    # Вычисляем z-статистику\n",
    "    z = (p2 - p1) / se\n",
    "    \n",
    "    # Вычисляем p-value\n",
    "    p_value = 2 * (1 - stats.norm.cdf(abs(z)))\n",
    "    \n",
    "    return p_value"
   ]
  },
  {
   "cell_type": "code",
   "execution_count": 10,
   "metadata": {},
   "outputs": [
    {
     "name": "stdout",
     "output_type": "stream",
     "text": [
      "P-value: 0.4730\n",
      "Нулевая гипотеза не опровергнута\n"
     ]
    }
   ],
   "source": [
    "# Пример использования\n",
    "impressions_a = 1752\n",
    "clicks_a = 10\n",
    "impressions_b = 1742\n",
    "clicks_b = 7\n",
    "\n",
    "p_value = calculate_p_value(clicks_a, impressions_a, clicks_b, impressions_b)\n",
    "print(f\"P-value: {p_value:.4f}\")\n",
    "\n",
    "if p_value < 0.05:\n",
    "    print('Тест значим')\n",
    "else:\n",
    "    print('Нулевая гипотеза не опровергнута')"
   ]
  },
  {
   "cell_type": "markdown",
   "metadata": {},
   "source": [
    "## Расчет p-value для средних значений (SE means)"
   ]
  },
  {
   "cell_type": "code",
   "execution_count": null,
   "metadata": {},
   "outputs": [],
   "source": [
    "from math import sqrt\n",
    "import scipy.stats as st\n",
    "\n",
    "sp = 20 # предполагаемое среднее\n",
    "n = 64 # выборка\n",
    "mean = 18.5 # наше среднее\n",
    "std = 4 # стандартное отклонение\n",
    "\n",
    "se = std / sqrt(n) # se mean\n",
    "z_value = (mean - sp) / se\n",
    "p_score = st.norm.cdf(z_value)*2\n",
    "print(f\"Стандартное отклонение: {se}\\nZ-значение: {z_value}\\np-value: {p_score:4f}\")"
   ]
  }
 ],
 "metadata": {
  "kernelspec": {
   "display_name": "Python 3",
   "language": "python",
   "name": "python3"
  },
  "language_info": {
   "codemirror_mode": {
    "name": "ipython",
    "version": 3
   },
   "file_extension": ".py",
   "mimetype": "text/x-python",
   "name": "python",
   "nbconvert_exporter": "python",
   "pygments_lexer": "ipython3",
   "version": "3.11.0"
  }
 },
 "nbformat": 4,
 "nbformat_minor": 2
}
