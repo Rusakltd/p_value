{
 "cells": [
  {
   "cell_type": "code",
   "execution_count": 4,
   "metadata": {},
   "outputs": [
    {
     "name": "stdout",
     "output_type": "stream",
     "text": [
      "Стандартное отклонение: 0.5\n",
      "Z-значение: -3.0\n",
      "p-value: 0.002700\n"
     ]
    }
   ],
   "source": [
    "from math import sqrt\n",
    "import scipy.stats as st\n",
    "\n",
    "sp = 20 # предполагаемое среднее\n",
    "n = 64 # выборка\n",
    "mean = 18.5 # наше среднее\n",
    "std = 4 # стандартное отклонение\n",
    "\n",
    "se = std / sqrt(n)\n",
    "z_value = (mean - sp) / se\n",
    "p_score = st.norm.cdf(z_value)*2\n",
    "print(f\"Стандартное отклонение: {se}\\nZ-значение: {z_value}\\np-value: {p_score:4f}\")"
   ]
  }
 ],
 "metadata": {
  "kernelspec": {
   "display_name": "Python 3",
   "language": "python",
   "name": "python3"
  },
  "language_info": {
   "codemirror_mode": {
    "name": "ipython",
    "version": 3
   },
   "file_extension": ".py",
   "mimetype": "text/x-python",
   "name": "python",
   "nbconvert_exporter": "python",
   "pygments_lexer": "ipython3",
   "version": "3.11.0"
  }
 },
 "nbformat": 4,
 "nbformat_minor": 2
}
